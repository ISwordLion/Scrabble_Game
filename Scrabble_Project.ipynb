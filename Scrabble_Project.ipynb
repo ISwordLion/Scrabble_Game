{
 "cells": [
  {
   "cell_type": "code",
   "execution_count": 1,
   "metadata": {},
   "outputs": [
    {
     "name": "stdout",
     "output_type": "stream",
     "text": [
      "['A', 'B', 'C', 'D', 'E', 'F', 'G', 'H', 'I', 'J', 'K', 'L', 'M', 'N', 'O', 'P', 'Q', 'R', 'S', 'T', 'U', 'V', 'W', 'X', 'Y', 'Z', 'a', 'b', 'c', 'd', 'e', 'f', 'g', 'h', 'i', 'j', 'k', 'l', 'm', 'n', 'o', 'p', 'q', 'r', 's', 't', 'u', 'v', 'w', 'x', 'y', 'z']\n",
      "[1, 3, 3, 2, 1, 4, 2, 4, 1, 8, 5, 1, 3, 4, 1, 3, 10, 1, 1, 1, 1, 4, 4, 8, 4, 10, 1, 3, 3, 2, 1, 4, 2, 4, 1, 8, 5, 1, 3, 4, 1, 3, 10, 1, 1, 1, 1, 4, 4, 8, 4, 10]\n",
      "15\n",
      "{'player1': 51, 'wordNerd': 49, 'Lexi Con': 31, 'Prof Reader': 31}\n"
     ]
    }
   ],
   "source": [
    "letters = [\"A\", \"B\", \"C\", \"D\", \"E\", \"F\", \"G\", \"H\", \"I\", \"J\", \"K\", \"L\", \"M\", \"N\", \"O\", \"P\", \"Q\", \"R\", \"S\", \"T\", \"U\", \"V\", \"W\", \"X\", \"Y\", \"Z\"]\n",
    "points = [1, 3, 3, 2, 1, 4, 2, 4, 1, 8, 5, 1, 3, 4, 1, 3, 10, 1, 1, 1, 1, 4, 4, 8, 4, 10]\n",
    "\n",
    "letters += [\n",
    "  letter.lower()\n",
    "  for letter in letters\n",
    "]\n",
    "points*=2\n",
    "print(letters)\n",
    "print(points)\n",
    "letter_to_points = dict(zip(letters, points))\n",
    "# letter_to_points = {key:value for key, value in zip(letters, points)}\n",
    "letter_to_points[\" \"] = 0\n",
    "\n",
    "def score_word(word):\n",
    "  point_total = 0\n",
    "  for letter in word:\n",
    "    point_total += letter_to_points.get(letter, 0)\n",
    "  return point_total\n",
    "\n",
    "brownie_points = score_word(\"BROWNIE\")\n",
    "print(brownie_points)\n",
    "\n",
    "player_to_words = {\"player1\": [\"BLUE\", \"TENNIS\", \"EXIT\"], \"wordNerd\": [\"EARTH\", \"EYES\", \"MACHINE\"], \"Lexi Con\": [\"ERASER\", \"BELLY\", \"HUSKY\"], \"Prof Reader\": [\"ZAP\", \"COMA\", \"PERIOD\"],}\n",
    "\n",
    "def play_word(player, word):\n",
    "  player_to_words[player].append(word)\n",
    "  \n",
    "play_word(\"player1\", \"CODE\")\n",
    "\n",
    "player_to_points = {}\n",
    "def update_point_totals():\n",
    "  for player, words in player_to_words.items():\n",
    "    player_points = 0\n",
    "    for word in words:\n",
    "      player_points += score_word(word)\n",
    "    player_to_points[player] = player_points\n",
    "  print(player_to_points)\n",
    "\n",
    "play_word(\"player1\", \"XCODE\")\n",
    "play_word(\"wordNerd\", \"jungle\")\n",
    "\n",
    "update_point_totals()\n"
   ]
  }
 ],
 "metadata": {
  "kernelspec": {
   "display_name": "Python 3",
   "language": "python",
   "name": "python3"
  },
  "language_info": {
   "codemirror_mode": {
    "name": "ipython",
    "version": 3
   },
   "file_extension": ".py",
   "mimetype": "text/x-python",
   "name": "python",
   "nbconvert_exporter": "python",
   "pygments_lexer": "ipython3",
   "version": "3.6.5"
  }
 },
 "nbformat": 4,
 "nbformat_minor": 2
}
